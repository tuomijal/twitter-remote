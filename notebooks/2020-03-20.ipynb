{
 "cells": [
  {
   "cell_type": "code",
   "execution_count": 92,
   "metadata": {},
   "outputs": [],
   "source": [
    "from pyprojroot import here\n",
    "import pandas as pd\n",
    "from pathlib import Path\n",
    "import json\n",
    "\n",
    "from pprint import pprint\n",
    "\n",
    "import ipywidgets as widgets\n",
    "from IPython.display import display\n",
    "\n",
    "import matplotlib.pyplot as plt\n",
    "%matplotlib inline\n",
    "# up figure resolution\n",
    "import matplotlib as mpl\n",
    "mpl.rcParams['figure.dpi']= 150"
   ]
  },
  {
   "cell_type": "markdown",
   "metadata": {},
   "source": [
    "## Test drills"
   ]
  },
  {
   "cell_type": "code",
   "execution_count": 93,
   "metadata": {},
   "outputs": [
    {
     "name": "stdout",
     "output_type": "stream",
     "text": [
      "dict_keys(['created_at', 'id', 'id_str', 'text', 'truncated', 'entities', 'metadata', 'source', 'in_reply_to_status_id', 'in_reply_to_status_id_str', 'in_reply_to_user_id', 'in_reply_to_user_id_str', 'in_reply_to_screen_name', 'user', 'geo', 'coordinates', 'place', 'contributors', 'retweeted_status', 'is_quote_status', 'quoted_status_id', 'quoted_status_id_str', 'retweet_count', 'favorite_count', 'favorited', 'retweeted', 'lang'])\n"
     ]
    }
   ],
   "source": [
    "folder = here() / 'data/raw/fast-teams-twitter-data/01-etatyo/'\n",
    "example_path = folder / \"1237122416809295872.json\"\n",
    "\n",
    "with open (example_path, 'r') as f:\n",
    "    file = json.load(f)\n",
    "\n",
    "pprint(file.keys())"
   ]
  },
  {
   "cell_type": "code",
   "execution_count": 94,
   "metadata": {},
   "outputs": [
    {
     "data": {
      "text/plain": [
       "'MarikaVanska'"
      ]
     },
     "execution_count": 94,
     "metadata": {},
     "output_type": "execute_result"
    }
   ],
   "source": [
    "file['user']['screen_name']"
   ]
  },
  {
   "cell_type": "code",
   "execution_count": 95,
   "metadata": {},
   "outputs": [
    {
     "data": {
      "text/plain": [
       "[{'screen_name': 'minnahuoti',\n",
       "  'name': 'Minna Huotilainen',\n",
       "  'id': 432396811,\n",
       "  'id_str': '432396811',\n",
       "  'indices': [3, 14]}]"
      ]
     },
     "execution_count": 95,
     "metadata": {},
     "output_type": "execute_result"
    }
   ],
   "source": [
    "file['entities']['user_mentions']"
   ]
  },
  {
   "cell_type": "markdown",
   "metadata": {},
   "source": [
    "## Inspector"
   ]
  },
  {
   "cell_type": "code",
   "execution_count": 96,
   "metadata": {},
   "outputs": [
    {
     "data": {
      "application/vnd.jupyter.widget-view+json": {
       "model_id": "5f828d77292d46ff94ad65172ef2e5c8",
       "version_major": 2,
       "version_minor": 0
      },
      "text/plain": [
       "Dropdown(description='files', options=('1240556017949257728.json', '1240281984355774464.json', '12398153297879…"
      ]
     },
     "metadata": {},
     "output_type": "display_data"
    }
   ],
   "source": [
    "data = pd.DataFrame()\n",
    "\n",
    "pathlist = Path(folder).glob('*.json')\n",
    "files = [x.name for x in pathlist]\n",
    "\n",
    "drop = widgets.Dropdown(\n",
    "            options=files,\n",
    "            description='files',\n",
    "            disabled=False,\n",
    "    )\n",
    "display(drop)"
   ]
  },
  {
   "cell_type": "raw",
   "metadata": {},
   "source": [
    "for path in pathlist:\n",
    "    row = pd.read_json(path)"
   ]
  },
  {
   "cell_type": "markdown",
   "metadata": {},
   "source": [
    "## Combine"
   ]
  },
  {
   "cell_type": "code",
   "execution_count": 97,
   "metadata": {},
   "outputs": [
    {
     "name": "stdout",
     "output_type": "stream",
     "text": [
      "/Users/jalmarituominen/doctoral-project/twitter-project/data/raw/fast-teams-twitter-data/01-etatyo/1239525202712768512.json\r"
     ]
    }
   ],
   "source": [
    "tweets = list()\n",
    "pathlist = Path(folder).glob('*.json')\n",
    "\n",
    "for path in pathlist:\n",
    "    print(path, end='\\r')\n",
    "    with open(path, 'r') as f:\n",
    "        file = json.load(f)\n",
    "        tweets.append(file)"
   ]
  },
  {
   "cell_type": "markdown",
   "metadata": {},
   "source": [
    "## Network"
   ]
  },
  {
   "cell_type": "code",
   "execution_count": 98,
   "metadata": {},
   "outputs": [],
   "source": [
    "# runvisualize.py\n",
    "\n",
    "# # Looking into a tweet\n",
    "# tweet = tweets['statuses'][0]\n",
    "# print tweet['user']['screen_name']\n",
    "# print tweet['entities']['user_mentions']\n",
    "# for user in tweet['entities']['user_mentions']:\n",
    "#   print user['screen_name']\n",
    "\n",
    "# Tweets to tabular format\n",
    "import pandas as pd\n",
    "table = list()\n",
    "\n",
    "import networkx as nx\n",
    "network = nx.DiGraph()\n",
    "print\n",
    "\n",
    "for tweet in tweets:\n",
    "  # print(tweet['full_text'])\n",
    "  for mentioned in tweet['entities']['user_mentions']:\n",
    "    user_from = tweet['user']['screen_name'].lower()\n",
    "    user_to = mentioned['screen_name'].lower()\n",
    "    if not network.has_edge(user_from,user_to):\n",
    "        network.add_edge(user_from,user_to,weight=0)\n",
    "    network[user_from][user_to]['weight'] += 1\n",
    "\n",
    "nx.readwrite.gexf.write_gexf(network,\n",
    "                            here() / 'results/network.gexf',\n",
    "                            encoding='utf-8',\n",
    "                            version='1.2draft')\n",
    "\n",
    "# df = pd.DataFrame(rows)\n",
    "# df.to_csv('data/tweets-6aika.csv',encoding='utf-8')"
   ]
  },
  {
   "cell_type": "code",
   "execution_count": null,
   "metadata": {},
   "outputs": [],
   "source": [
    "pos = nx.spring_layout(network)\n",
    "plt.figure(figsize=(10,10))\n",
    "nx.draw_networkx(network, with_labels=False, node_size=15, width=.3, pos=pos, edgecolor='grey', node_color='k')\n",
    "limits=plt.axis('off') # turn of axisb\n",
    "plt.tight_layout()\n",
    "plt.savefig(here() / 'results/figures/2020-03-20-network.png', transparent=True)"
   ]
  }
 ],
 "metadata": {
  "kernelspec": {
   "display_name": "twitter",
   "language": "python",
   "name": "twitter"
  },
  "language_info": {
   "codemirror_mode": {
    "name": "ipython",
    "version": 3
   },
   "file_extension": ".py",
   "mimetype": "text/x-python",
   "name": "python",
   "nbconvert_exporter": "python",
   "pygments_lexer": "ipython3",
   "version": "3.8.2"
  }
 },
 "nbformat": 4,
 "nbformat_minor": 4
}
